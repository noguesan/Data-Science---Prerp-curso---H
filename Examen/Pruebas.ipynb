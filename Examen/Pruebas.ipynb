{
 "cells": [
  {
   "cell_type": "code",
   "execution_count": 6,
   "metadata": {},
   "outputs": [],
   "source": [
    "#1\n",
    "def ListaDivisibles(numero, tope):\n",
    "    lista_divisibles = []\n",
    "    contador = 1\n",
    "    \n",
    "    while (contador * numero < tope + 1):\n",
    "        lista_divisibles.append(contador * numero)\n",
    "        contador += 1\n",
    "\n",
    "    return lista_divisibles"
   ]
  },
  {
   "cell_type": "code",
   "execution_count": 11,
   "metadata": {},
   "outputs": [],
   "source": [
    "def ListaDivisibles(numero, tope):\n",
    "    '''\n",
    "    Esta función devuelve una lista ordenada de menor a mayor con los números divisibles \n",
    "    por el parámetro número entre uno (1) y el valor del parámetro \"tope\"\n",
    "    Recibe dos argumentos:\n",
    "        numero: Numero entero divisor\n",
    "        tope: Máximo valor a evaluar a partir de uno (1)\n",
    "    Ej:\n",
    "        ListaDivisibles(6,30) debe retornar [6,12,18,24,30]\n",
    "        ListaDivisibles(10,5) debe retornar []\n",
    "        ListaDivisibles(7,50) debe retornar [7,14,21,28,35,42,49]\n",
    "    '''\n",
    "    #Tu código aca:\n",
    "    lista_divisibles = []\n",
    "    contador = 1\n",
    "    \n",
    "    while (contador * numero < tope + 1):\n",
    "        lista_divisibles.append(contador * numero)\n",
    "        contador += 1\n",
    "\n",
    "    return lista_divisibles"
   ]
  },
  {
   "cell_type": "code",
   "execution_count": 13,
   "metadata": {},
   "outputs": [
    {
     "data": {
      "text/plain": [
       "[3, 6, 9]"
      ]
     },
     "execution_count": 13,
     "metadata": {},
     "output_type": "execute_result"
    }
   ],
   "source": [
    "ListaDivisibles(3,9)"
   ]
  },
  {
   "cell_type": "code",
   "execution_count": 14,
   "metadata": {},
   "outputs": [],
   "source": [
    "#2\n",
    "def Exponente(numero, exponente):\n",
    "    '''\n",
    "    Esta función devuelve el resultado de elevar el parámetro \"numero\" al parámetro \"exponente\"\n",
    "    Recibe dos argumentos:\n",
    "        numero: El número base en la operación exponencial\n",
    "        exponente: El número exponente en la operación exponencial\n",
    "    Ej:\n",
    "        Exponente(10,3) debe retornar 1000\n",
    "    '''\n",
    "    resultado = numero ** exponente\n",
    "    \n",
    "    return resultado\n",
    "    "
   ]
  },
  {
   "cell_type": "code",
   "execution_count": 16,
   "metadata": {},
   "outputs": [
    {
     "data": {
      "text/plain": [
       "1000"
      ]
     },
     "execution_count": 16,
     "metadata": {},
     "output_type": "execute_result"
    }
   ],
   "source": [
    "Exponente(10, 3)"
   ]
  },
  {
   "cell_type": "code",
   "execution_count": 19,
   "metadata": {},
   "outputs": [],
   "source": [
    "#3\n",
    "def ListaDeListas(lista):\n",
    "    '''\n",
    "    Esta función recibe una lista, que puede contener elementos que a su vez sean listas y\n",
    "    devuelve esos elementos por separado en una lista única. \n",
    "    En caso de que el parámetro no sea de tipo lista, debe retornar nulo.\n",
    "    Recibe un argumento:\n",
    "        lista: La lista que puede contener otras listas y se convierte a una \n",
    "        lista de elementos únicos o no iterables.\n",
    "    Ej:\n",
    "        ListaDeListas([1,2,['a','b'],[10]]) debe retornar [1,2,'a','b',10]\n",
    "        ListaDeListas(108) debe retornar el valor nulo.\n",
    "        ListaDeListas([[1,2,[3]],[4]]) debe retornar [1,2,3,4]\n",
    "    '''\n",
    "    #Tu código aca:\n",
    "    if type(lista) == list:\n",
    "        lista_separada = []\n",
    "        for elemento_l1 in lista:\n",
    "                if (type(elemento_l1)== list):\n",
    "                    for elemento_l2 in elemento_l1:\n",
    "                        lista_separada.append(elemento_l2)\n",
    "                else:\n",
    "                    lista_separada.append(elemento_l1)\n",
    "        return lista_separada\n",
    "    else:\n",
    "        return None"
   ]
  },
  {
   "cell_type": "code",
   "execution_count": 21,
   "metadata": {},
   "outputs": [
    {
     "name": "stdout",
     "output_type": "stream",
     "text": [
      "None\n"
     ]
    }
   ],
   "source": [
    "print(ListaDeListas(108))"
   ]
  },
  {
   "cell_type": "code",
   "execution_count": 23,
   "metadata": {},
   "outputs": [],
   "source": [
    "#4\n",
    "def Factorial(numero):\n",
    "    '''\n",
    "    Esta función devuelve el factorial del número pasado como parámetro.\n",
    "    En caso de que no sea de tipo entero y/o sea menor que 0, debe retornar nulo.\n",
    "    Recibe un argumento:\n",
    "        numero: Será el número con el que se calcule el factorial\n",
    "    Ej:\n",
    "        Factorial(4) debe retornar 24\n",
    "        Factorial(-2) debe retornar nulo\n",
    "        Factorial(0) debe retornar 1\n",
    "    '''\n",
    "    #Tu código aca:\n",
    "    if (numero < 0):\n",
    "        numero = None\n",
    "    elif (numero == 0 or numero== 1):\n",
    "        numero = 1\n",
    "    elif(numero > 1):\n",
    "        numero = numero * Factorial(numero-1)\n",
    "    return numero\n",
    "    \n"
   ]
  },
  {
   "cell_type": "code",
   "execution_count": 24,
   "metadata": {},
   "outputs": [
    {
     "name": "stdout",
     "output_type": "stream",
     "text": [
      "24\n",
      "None\n",
      "1\n"
     ]
    }
   ],
   "source": [
    "print(Factorial(4))\n",
    "print(Factorial(-2))\n",
    "print(Factorial(1))"
   ]
  },
  {
   "cell_type": "code",
   "execution_count": 90,
   "metadata": {},
   "outputs": [],
   "source": [
    "#5\n",
    "def ListaPrimos(desde, hasta):\n",
    "    '''\n",
    "    Esta función devuelve una lista con los números primos entre los valores \"desde\" y \"hasta\"\n",
    "    pasados como parámetro, siendo ambos inclusivos.\n",
    "    En caso de que alguno de los parámetros no sea de tipo entero y/o no sea mayor a cero, debe retornar nulo.\n",
    "    En caso de que el segundo parámetro sea menor al primero, pero ambos mayores que cero,\n",
    "    debe retornar una lista vacía.\n",
    "    Recibe un argumento:\n",
    "        desde: Será el número a partir del cual se toma el rango\n",
    "        hasta: Será el número hasta el cual se tome el rango\n",
    "    Ej:\n",
    "        ListaPrimos(7,15) debe retornar [7,11,13]\n",
    "        ListaPrimos(100,99) debe retornar []\n",
    "        ListaPrimos(1,7) debe retonan [1,2,3,5,7]\n",
    "    '''\n",
    "    #Tu código aca:\n",
    "    if (type(desde) != int or type(hasta) != int or desde <= 0 or hasta <= 0):\n",
    "        return None\n",
    "    elif (hasta < desde):\n",
    "        return None\n",
    "    else:\n",
    "        lista_primos = []\n",
    "        for i in range(desde, hasta+1):\n",
    "            if verifica_primo(i):\n",
    "                lista_primos.append(i)\n",
    "        return lista_primos\n",
    "\n",
    "def verifica_primo(nro):\n",
    "    es_primo=True\n",
    "    for i in range(2,int(nro)):\n",
    "        if nro % i == 0:\n",
    "            es_primo = False\n",
    "            break\n",
    "    return es_primo"
   ]
  },
  {
   "cell_type": "code",
   "execution_count": 91,
   "metadata": {},
   "outputs": [
    {
     "name": "stdout",
     "output_type": "stream",
     "text": [
      "[1, 2, 3, 5, 7]\n",
      "None\n",
      "None\n",
      "None\n"
     ]
    }
   ],
   "source": [
    "print(ListaPrimos(1,7))\n",
    "print(ListaPrimos(1.1,7))\n",
    "print(ListaPrimos(0,7))\n",
    "print(ListaPrimos(10,7))\n"
   ]
  },
  {
   "cell_type": "code",
   "execution_count": 94,
   "metadata": {},
   "outputs": [],
   "source": [
    "#6\n",
    "def ListaRepetidos(lista):\n",
    "    '''\n",
    "    Esta función recibe como parámetro una lista y devuelve una lista de tuplas donde cada \n",
    "    tupla contiene un valor de la lista original y las veces que se repite. Los valores \n",
    "    de la lista original no deben estar repetidos. \n",
    "    Debe respetarse el orden original en el que aparecen los elementos.\n",
    "    En caso de que el parámetro no sea de tipo lista debe retornar nulo.\n",
    "    Recibe un argumento:\n",
    "        lista: Será la lista que se va a evaluar.\n",
    "    Ej:\n",
    "        ListaRepetidos([]) debe retornar []\n",
    "        ListaRepetidos(['hola', 'mundo', 'hola', 13, 14]) \n",
    "            debe retornar [('hola',2),('mundo',1),(13,1),(14,1)]\n",
    "        ListaRepetidos([1,2,2,4]) debe retornar [(1,1),(2,2),(4,1)]\n",
    "    '''\n",
    "    #Tu código aca:\n",
    "    if (type(lista)!= list):\n",
    "        return None\n",
    "    else:\n",
    "        lista_topplas = []\n",
    "        lista_elementos_agregados = []\n",
    "        for i in lista:  \n",
    "            if (lista_elementos_agregados.count(i)==0):\n",
    "                lista_elementos_agregados.append(i)\n",
    "                lista_topplas.append((i,lista.count(i)))\n",
    "        return lista_topplas"
   ]
  },
  {
   "cell_type": "code",
   "execution_count": 95,
   "metadata": {},
   "outputs": [
    {
     "name": "stdout",
     "output_type": "stream",
     "text": [
      "[]\n",
      "[('hola', 2), ('mundo', 1), (13, 1), (14, 1)]\n",
      "[(1, 1), (2, 2), (4, 1)]\n",
      "None\n"
     ]
    }
   ],
   "source": [
    "print(ListaRepetidos([]))\n",
    "print(ListaRepetidos(['hola', 'mundo', 'hola', 13, 14]))\n",
    "print(ListaRepetidos([1,2,2,4]))\n",
    "print(ListaRepetidos(1))"
   ]
  },
  {
   "cell_type": "code",
   "execution_count": 41,
   "metadata": {},
   "outputs": [],
   "source": [
    "#7\n",
    "def ClaseVehiculo(tipo, color):\n",
    "    '''\n",
    "    Esta función devuelve un objeto instanciado de la clase Vehiculo, \n",
    "    la cual debe tener los siguientes atributos:\n",
    "        Tipo:       Un valor dentro de los valores posibles: ['auto','camioneta','moto']\n",
    "        Color:      Un valor de tipo de dato string.\n",
    "        Velocidad:  Un valor de tipo de dato float, que debe inicializarse en cero.\n",
    "    y debe tener el siguiente método:\n",
    "        Acelerar(): Este método recibe un parámetro con el valor que debe incrementar a la\n",
    "                    propiedad Velocidad y luego retornarla.\n",
    "                    Si la propiedad Velocidad cobra un valor menor a cero, debe quedar en cero.\n",
    "                    Si la propiedad Velocidad cobra un valor mayor a cien, debe quedar en cien.\n",
    "    Recibe dos argumento:\n",
    "        tipo: Dato que se asignará al atributo Tipo del objeto de la clase Vehiculo\n",
    "        color: Dato que se asignará al atributo Color del objeto de la clase Vehiculo\n",
    "    Ej:\n",
    "        a = ClaseVehículo('auto','gris')\n",
    "        a.Acelerar(10) -> debe devolver 10\n",
    "        a.Acelerar(15) -> debe devolver 25\n",
    "        a.Acelerar(-10) -> debe devolver 15\n",
    "    '''\n",
    "    #Tu código aca:\n",
    "    \n",
    "    return 'Funcion incompleta'\n",
    "\n",
    "\n",
    "\n",
    "class ClaseVehículo:\n",
    "    def __init__(self, tipo, color):\n",
    "        self.tipo = tipo\n",
    "        self.color = color\n",
    "        self.velocidad = 0\n",
    "    \n",
    "    def Acelerar(self, vel):\n",
    "        self.velocidad += vel\n",
    "        if self.velocidad < 0:\n",
    "            self.velocidad = 0\n",
    "        if self.velocidad > 100:\n",
    "            self.velocidad = 100\n",
    "\n",
    "         \n",
    "\n",
    "\n",
    "\n"
   ]
  },
  {
   "cell_type": "code",
   "execution_count": 43,
   "metadata": {},
   "outputs": [
    {
     "name": "stdout",
     "output_type": "stream",
     "text": [
      "100\n",
      "100\n",
      "0\n"
     ]
    }
   ],
   "source": [
    "a = ClaseVehículo('auto','gris')\n",
    "a.Acelerar(10000)\n",
    "print(a.velocidad)\n",
    "a.Acelerar(15)\n",
    "print(a.velocidad)\n",
    "a.Acelerar(-1000)\n",
    "print(a.velocidad)"
   ]
  },
  {
   "cell_type": "code",
   "execution_count": 69,
   "metadata": {},
   "outputs": [],
   "source": [
    "def OrdenarDiccionario(diccionario_par, clave):\n",
    "    '''\n",
    "    Esta función recibe como parámetro un diccionario, cuyas listas de valores tienen el mismo\n",
    "    tamaño y sus elementos enésimos están asociados. Y otros dos parámetros que indican\n",
    "    la clave por la cual debe ordenarse y si es descendente o ascendente.\n",
    "    La función debe devolver el diccionario ordenado, teniendo en cuenta de no perder la\n",
    "    relación entre los elementos enésimos.\n",
    "    Recibe tres argumentos:\n",
    "        diccionario:    Diccionario a ordenar.\n",
    "        clave:          Clave del diccionario recibido, por la cual ordenar.\n",
    "        descendente:    Un valor booleano, que al ser verdadero indica ordenamiento ascendente y \n",
    "                        descendente si es falso. \n",
    "                        Debe tratarse de un parámetro por defecto en True.\n",
    "    Si el parámetro diccionario no es un tipo de dato diccionario ó el parámetro clave no \n",
    "    se encuentra dentro de las claves del diccionario, debe devolver nulo.\n",
    "    Ej:\n",
    "        dicc = {'clave1':['c','a','b'],\n",
    "                'clave2':['casa','auto','barco'],\n",
    "                'clave3':[1,2,3]}\n",
    "        OrdenarDiccionario(dicc, 'clave1')          debe retornar {'clave1':['a','b','c'],\n",
    "                                                                'clave2':['auto','barco','casa'],\n",
    "                                                                'clave3':[2,3,1]}\n",
    "        OrdenarDiccionario(dicc, 'clave3', False)   debe retornar {'clave1':['b','a','c'],\n",
    "                                                                'clave2':['barco','auto','casa'],\n",
    "                                                                'clave3':[3,2,1]}\n",
    "    '''\n",
    "    #Tu código aca:\n",
    "    from operator import itemgetter\n",
    "    Lista_ordenada = sorted(diccionario_par, key= itemgetter(diccionario_par[clave]))\n",
    "\n",
    "    return Lista_ordenada\n",
    "\n",
    "    "
   ]
  },
  {
   "cell_type": "code",
   "execution_count": 70,
   "metadata": {},
   "outputs": [],
   "source": [
    "dicc = {'clave1':['c','a','b'],\n",
    "                'clave2':['casa','auto','barco'],\n",
    "                'clave3':[1,2,3]}"
   ]
  },
  {
   "cell_type": "code",
   "execution_count": 68,
   "metadata": {},
   "outputs": [
    {
     "data": {
      "text/plain": [
       "['c', 'a', 'b']"
      ]
     },
     "execution_count": 68,
     "metadata": {},
     "output_type": "execute_result"
    }
   ],
   "source": [
    "dicc['clave1']"
   ]
  },
  {
   "cell_type": "code",
   "execution_count": 66,
   "metadata": {},
   "outputs": [
    {
     "ename": "AttributeError",
     "evalue": "'dict' object has no attribute 'clave1'",
     "output_type": "error",
     "traceback": [
      "\u001b[1;31m---------------------------------------------------------------------------\u001b[0m",
      "\u001b[1;31mAttributeError\u001b[0m                            Traceback (most recent call last)",
      "Cell \u001b[1;32mIn[66], line 1\u001b[0m\n\u001b[1;32m----> 1\u001b[0m dicc\u001b[39m.\u001b[39;49mclave1\n",
      "\u001b[1;31mAttributeError\u001b[0m: 'dict' object has no attribute 'clave1'"
     ]
    }
   ],
   "source": [
    "dicc.clave1\n"
   ]
  },
  {
   "cell_type": "code",
   "execution_count": 71,
   "metadata": {},
   "outputs": [
    {
     "ename": "TypeError",
     "evalue": "string indices must be integers",
     "output_type": "error",
     "traceback": [
      "\u001b[1;31m---------------------------------------------------------------------------\u001b[0m",
      "\u001b[1;31mTypeError\u001b[0m                                 Traceback (most recent call last)",
      "Cell \u001b[1;32mIn[71], line 1\u001b[0m\n\u001b[1;32m----> 1\u001b[0m OrdenarDiccionario(dicc,\u001b[39m'\u001b[39;49m\u001b[39mclave1\u001b[39;49m\u001b[39m'\u001b[39;49m)\n",
      "Cell \u001b[1;32mIn[69], line 29\u001b[0m, in \u001b[0;36mOrdenarDiccionario\u001b[1;34m(diccionario_par, clave)\u001b[0m\n\u001b[0;32m     27\u001b[0m \u001b[39m#Tu código aca:\u001b[39;00m\n\u001b[0;32m     28\u001b[0m \u001b[39mfrom\u001b[39;00m \u001b[39moperator\u001b[39;00m \u001b[39mimport\u001b[39;00m itemgetter\n\u001b[1;32m---> 29\u001b[0m Lista_ordenada \u001b[39m=\u001b[39m \u001b[39msorted\u001b[39;49m(diccionario_par, key\u001b[39m=\u001b[39;49m itemgetter(diccionario_par[clave]))\n\u001b[0;32m     31\u001b[0m \u001b[39mreturn\u001b[39;00m Lista_ordenada\n",
      "\u001b[1;31mTypeError\u001b[0m: string indices must be integers"
     ]
    }
   ],
   "source": [
    "OrdenarDiccionario(dicc,'clave1')\n"
   ]
  }
 ],
 "metadata": {
  "kernelspec": {
   "display_name": "Python 3",
   "language": "python",
   "name": "python3"
  },
  "language_info": {
   "codemirror_mode": {
    "name": "ipython",
    "version": 3
   },
   "file_extension": ".py",
   "mimetype": "text/x-python",
   "name": "python",
   "nbconvert_exporter": "python",
   "pygments_lexer": "ipython3",
   "version": "3.9.13 (tags/v3.9.13:6de2ca5, May 17 2022, 16:36:42) [MSC v.1929 64 bit (AMD64)]"
  },
  "orig_nbformat": 4,
  "vscode": {
   "interpreter": {
    "hash": "e4f578c0dd7d144233548fb840d1125486c86cca38866fc1c8374198531cdd91"
   }
  }
 },
 "nbformat": 4,
 "nbformat_minor": 2
}
